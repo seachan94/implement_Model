{
 "cells": [
  {
   "cell_type": "code",
   "execution_count": 1,
   "metadata": {},
   "outputs": [
    {
     "name": "stdout",
     "output_type": "stream",
     "text": [
      "importing Jupyter notebook from Loder.ipynb\n",
      "importing Jupyter notebook from metric.ipynb\n",
      "importing Jupyter notebook from C:\\Users\\KTDS\\Desktop\\im\\DeepMF\\Model\\DMF.ipynb\n"
     ]
    }
   ],
   "source": [
    "import numpy as np\n",
    "from sklearn.utils import shuffle\n",
    "import import_ipynb # ipynb load 위한 모듈\n",
    "%load_ext autoreload\n",
    "%autoreload 2\n",
    "from Loder import Loader\n",
    "from metric import Metric\n",
    "from Model.DMF import DMF\n"
   ]
  },
  {
   "cell_type": "code",
   "execution_count": 2,
   "metadata": {},
   "outputs": [],
   "source": [
    "class Run:\n",
    "    \n",
    "    def __init__(self):\n",
    "        self.path = 'data/lastfm-dataset-360K/usersha1-artmbid-artname-plays.tsv'\n",
    "        print(self.path)\n",
    "        loader = Loader()\n",
    "        \n",
    "        \n",
    "        print('Loader start')\n",
    "        \n",
    "        num_neg = 4\n",
    "        \n",
    "        uids, iids, self.df_train, self.df_test, \\\n",
    "        self.df_neg, self.users, self.items, \\\n",
    "        item_lookup = loader.load_dataset()\n",
    "        \n",
    "        user_input, item_input, labels = loader.get_train_instances(\n",
    "            uids, iids, num_neg, len(self.items)\n",
    "        )\n",
    "        \n",
    "        print('End Loader')\n",
    "        \n",
    "        user_data_shuff, item_data_shuff , label_data_shuff = shuffle(\n",
    "            user_input, item_input, labels\n",
    "        )\n",
    "        \n",
    "        self.user_data_shuff = np.array(user_data_shuff).reshape(-1,1)\n",
    "        self.item_data_shuff = np.array(item_data_shuff).reshape(-1,1)\n",
    "        self.label_data_shuff = np.array(label_data_shuff).reshape(-1,1)\n",
    "        \n",
    "    \n",
    "    def run(self):\n",
    "        \n",
    "        dmf = DMF(len(self.user),len(self.items))\n",
    "        self.model = nmf.get_model()\n",
    "        self.model.fit(\n",
    "            [self.user_data_shuff, self.item_data_shuff],\n",
    "            self.label_data_shuff, epochs = 20,\n",
    "            batch_size = 256, verbose = 1\n",
    "        )\n",
    "        \n",
    "        return self.model\n",
    "    \n",
    "    def calculte_top_k_metric(self):\n",
    "        \n",
    "        metric = Metric()\n",
    "        hit_lst = metric.evaluate_top_k(self.df_neg, self.df_test, self.model, K = 10)\n",
    "        hit = np.mean(hit_lst)\n",
    "        \n",
    "        return hit"
   ]
  },
  {
   "cell_type": "code",
   "execution_count": null,
   "metadata": {},
   "outputs": [
    {
     "name": "stdout",
     "output_type": "stream",
     "text": [
      "data/lastfm-dataset-360K/usersha1-artmbid-artname-plays.tsv\n",
      "Loader start\n"
     ]
    }
   ],
   "source": [
    "%reload_ext autoreload\n",
    "run = Run()"
   ]
  },
  {
   "cell_type": "code",
   "execution_count": null,
   "metadata": {},
   "outputs": [],
   "source": []
  },
  {
   "cell_type": "code",
   "execution_count": null,
   "metadata": {},
   "outputs": [],
   "source": []
  },
  {
   "cell_type": "code",
   "execution_count": null,
   "metadata": {},
   "outputs": [],
   "source": []
  }
 ],
 "metadata": {
  "kernelspec": {
   "display_name": "Python 3",
   "language": "python",
   "name": "python3"
  },
  "language_info": {
   "codemirror_mode": {
    "name": "ipython",
    "version": 3
   },
   "file_extension": ".py",
   "mimetype": "text/x-python",
   "name": "python",
   "nbconvert_exporter": "python",
   "pygments_lexer": "ipython3",
   "version": "3.8.5"
  }
 },
 "nbformat": 4,
 "nbformat_minor": 4
}
