{
 "cells": [
  {
   "cell_type": "code",
   "execution_count": 1,
   "metadata": {},
   "outputs": [],
   "source": [
    "import numpy as np\n",
    "import heapq"
   ]
  },
  {
   "cell_type": "code",
   "execution_count": 2,
   "metadata": {},
   "outputs": [],
   "source": [
    "class Metric:\n",
    "    \n",
    "    def __init__(self):\n",
    "        pass\n",
    "    \n",
    "\n",
    "    def get_hits(self,k_ranked, holdout):\n",
    "        \n",
    "        if holdout in k_ranked:\n",
    "            return True\n",
    "        return False\n",
    "    \n",
    "    def eval_rating(self,idx, test_ratings, test_negatives, K, model):\n",
    "        \n",
    "        items = test_negatives[idx]\n",
    "        user_idx = test_ratings[idx][0]\n",
    "        holdout = test_ratings[idx][1]\n",
    "        items.append(holdout)\n",
    "        \n",
    "        predict_user =np.full(len(items),user_idx,dtype = 'int32').reshape(-1,1)\n",
    "        np_items = np.array(items).reshape(-1,1)\n",
    "        \n",
    "        prediction = model.predict([predict_user,np_itmems])\n",
    "        prediction = prediction.flatten().tolist()\n",
    "        item_to_pre_score = {item : pre for item, pre in zip(items,prediction)}\n",
    "        \n",
    "        k_ranked = heapq.nlargest(K,item_to_pre_score,key = item_to_pre_score.get)\n",
    "        \n",
    "        hits = self.get_hits(k_ranked, holdout)\n",
    "        \n",
    "        return hits\n",
    "    \n",
    "    def evaluate_top_k(self, df_neg, df_test,model, K =10):\n",
    "        \n",
    "        hits = []\n",
    "        test_u = df_test['user_id'].values.tolist()\n",
    "        test_i = df_test['item_id'].values.tolist()\n",
    "        \n",
    "        test_ratings = list(zip(test_u,test_i))\n",
    "        df_neg = df_neg.drop(df_neg.columns[0],axis = 1)\n",
    "        test_negatives = df_neg.values.tolist()\n",
    "        \n",
    "        sample_idx_list = np.random.choice(len(test_ratings),int(len(test_ratings)*0.3))\n",
    "        \n",
    "        for user_idx in sample_idx_list:\n",
    "            \n",
    "            hitrate = self.eval_rating(user_idx,test_ratings,test_negatives,K,model)\n",
    "            hits.append(hitrate)\n",
    "            \n",
    "        return hits\n",
    "    \n",
    "    "
   ]
  },
  {
   "cell_type": "code",
   "execution_count": null,
   "metadata": {},
   "outputs": [],
   "source": []
  }
 ],
 "metadata": {
  "kernelspec": {
   "display_name": "Python 3",
   "language": "python",
   "name": "python3"
  },
  "language_info": {
   "codemirror_mode": {
    "name": "ipython",
    "version": 3
   },
   "file_extension": ".py",
   "mimetype": "text/x-python",
   "name": "python",
   "nbconvert_exporter": "python",
   "pygments_lexer": "ipython3",
   "version": "3.8.5"
  }
 },
 "nbformat": 4,
 "nbformat_minor": 4
}
