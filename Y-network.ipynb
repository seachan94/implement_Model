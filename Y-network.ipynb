{
 "cells": [
  {
   "cell_type": "code",
   "execution_count": 3,
   "metadata": {},
   "outputs": [],
   "source": [
    "import numpy as np\n",
    "\n",
    "from keras.layers import Dense, Dropout, Input\n",
    "from keras.layers import Conv2D, MaxPooling2D,Flatten\n",
    "from keras.layers.merge import concatenate\n",
    "from keras.models import Model\n",
    "from keras.utils import to_categorical,plot_model\n",
    "from keras.datasets import mnist\n"
   ]
  },
  {
   "cell_type": "code",
   "execution_count": 4,
   "metadata": {},
   "outputs": [
    {
     "name": "stdout",
     "output_type": "stream",
     "text": [
      "Downloading data from https://storage.googleapis.com/tensorflow/tf-keras-datasets/mnist.npz\n",
      "11493376/11490434 [==============================] - 1s 0us/step\n"
     ]
    }
   ],
   "source": [
    "(x_train, y_train),(x_test,y_test) = mnist.load_data()"
   ]
  },
  {
   "cell_type": "code",
   "execution_count": 5,
   "metadata": {},
   "outputs": [],
   "source": [
    "num_labels = len(np.unique(y_train))\n",
    "y_train = to_categorical(y_train)\n",
    "y_test = to_categorical(y_test)"
   ]
  },
  {
   "cell_type": "code",
   "execution_count": 8,
   "metadata": {},
   "outputs": [],
   "source": [
    "img_size = x_train.shape[1]\n",
    "x_train = np.reshape(x_train,[-1,img_size,img_size,1])\n",
    "x_test = np.reshape(x_test,[-1,img_size,img_size,1])\n",
    "x_train = x_train.astype('float32')/255\n",
    "x_test = x_test.astype('float32')/255"
   ]
  },
  {
   "cell_type": "code",
   "execution_count": 10,
   "metadata": {},
   "outputs": [],
   "source": [
    "input_shape = (img_size,img_size,1)\n",
    "batch_size = 32\n",
    "kernel_size = 3\n",
    "dropout = 0.4\n",
    "n_filters = 32"
   ]
  },
  {
   "cell_type": "code",
   "execution_count": 14,
   "metadata": {},
   "outputs": [],
   "source": [
    "#Y-Network left\n",
    "left_input = Input(shape = input_shape)\n",
    "x = left_input\n",
    "filters = n_filters"
   ]
  },
  {
   "cell_type": "code",
   "execution_count": 15,
   "metadata": {},
   "outputs": [
    {
     "name": "stdout",
     "output_type": "stream",
     "text": [
      "KerasTensor(type_spec=TensorSpec(shape=(None, 14, 14, 32), dtype=tf.float32, name=None), name='max_pooling2d_5/MaxPool:0', description=\"created by layer 'max_pooling2d_5'\")\n",
      "KerasTensor(type_spec=TensorSpec(shape=(None, 7, 7, 64), dtype=tf.float32, name=None), name='max_pooling2d_6/MaxPool:0', description=\"created by layer 'max_pooling2d_6'\")\n",
      "KerasTensor(type_spec=TensorSpec(shape=(None, 3, 3, 128), dtype=tf.float32, name=None), name='max_pooling2d_7/MaxPool:0', description=\"created by layer 'max_pooling2d_7'\")\n"
     ]
    }
   ],
   "source": [
    "# Conv2D-Dropout-MaxPolling2D -> 3-layers\n",
    "# 계층 지날 때 마다 filter는 두배\n",
    "\n",
    "for idx in range(3):\n",
    "    x = Conv2D(\n",
    "        filters = filters,\n",
    "        kernel_size = kernel_size,\n",
    "        padding = 'same',\n",
    "        activation= 'relu'\n",
    "              )(x)\n",
    "    x = Dropout(dropout)(x)\n",
    "    x = MaxPooling2D()(x)\n",
    "    filters = filters*2\n",
    "    print(x)"
   ]
  },
  {
   "cell_type": "code",
   "execution_count": 16,
   "metadata": {},
   "outputs": [],
   "source": [
    "#Y-Network rigth\n",
    "\n",
    "right_inputs = Input(shape = input_shape)\n",
    "y = right_inputs\n",
    "filters = n_filters"
   ]
  },
  {
   "cell_type": "code",
   "execution_count": 19,
   "metadata": {},
   "outputs": [],
   "source": [
    "# Conv2D-Dropout-MaxPolling2D -> 3-layers\n",
    "# 계층 지날 때 마다 filter는 두배\n",
    "\n",
    "for idx in range(3):\n",
    "    y = Conv2D(\n",
    "        filters = filters,\n",
    "        kernel_size = kernel_size,\n",
    "        padding = 'same',\n",
    "        activation = 'relu'\n",
    "    )(y)\n",
    "    y = Dropout(dropout)(y)\n",
    "    y = MaxPooling2D()(y)\n",
    "    fiters = filters*2"
   ]
  },
  {
   "cell_type": "code",
   "execution_count": 20,
   "metadata": {},
   "outputs": [],
   "source": [
    "# merge left & right\n",
    "\n",
    "y = concatenate([x,y])\n"
   ]
  },
  {
   "cell_type": "code",
   "execution_count": 21,
   "metadata": {},
   "outputs": [],
   "source": [
    "y = Flatten()(y)\n",
    "y = Dropout(dropout)(y)\n",
    "outputs = Dense(num_labels,activation = 'softmax')(y)\n"
   ]
  },
  {
   "cell_type": "code",
   "execution_count": 34,
   "metadata": {},
   "outputs": [],
   "source": [
    "model = Model([left_input,right_inputs],outputs)"
   ]
  },
  {
   "cell_type": "code",
   "execution_count": 35,
   "metadata": {},
   "outputs": [
    {
     "name": "stdout",
     "output_type": "stream",
     "text": [
      "Model: \"model_10\"\n",
      "__________________________________________________________________________________________________\n",
      "Layer (type)                    Output Shape         Param #     Connected to                     \n",
      "==================================================================================================\n",
      "input_2 (InputLayer)            [(None, 28, 28, 1)]  0                                            \n",
      "__________________________________________________________________________________________________\n",
      "input_3 (InputLayer)            [(None, 28, 28, 1)]  0                                            \n",
      "__________________________________________________________________________________________________\n",
      "conv2d_5 (Conv2D)               (None, 28, 28, 32)   320         input_2[0][0]                    \n",
      "__________________________________________________________________________________________________\n",
      "conv2d_8 (Conv2D)               (None, 28, 28, 32)   320         input_3[0][0]                    \n",
      "__________________________________________________________________________________________________\n",
      "dropout_5 (Dropout)             (None, 28, 28, 32)   0           conv2d_5[0][0]                   \n",
      "__________________________________________________________________________________________________\n",
      "dropout_8 (Dropout)             (None, 28, 28, 32)   0           conv2d_8[0][0]                   \n",
      "__________________________________________________________________________________________________\n",
      "max_pooling2d_5 (MaxPooling2D)  (None, 14, 14, 32)   0           dropout_5[0][0]                  \n",
      "__________________________________________________________________________________________________\n",
      "max_pooling2d_8 (MaxPooling2D)  (None, 14, 14, 32)   0           dropout_8[0][0]                  \n",
      "__________________________________________________________________________________________________\n",
      "conv2d_6 (Conv2D)               (None, 14, 14, 64)   18496       max_pooling2d_5[0][0]            \n",
      "__________________________________________________________________________________________________\n",
      "conv2d_9 (Conv2D)               (None, 14, 14, 32)   9248        max_pooling2d_8[0][0]            \n",
      "__________________________________________________________________________________________________\n",
      "dropout_6 (Dropout)             (None, 14, 14, 64)   0           conv2d_6[0][0]                   \n",
      "__________________________________________________________________________________________________\n",
      "dropout_9 (Dropout)             (None, 14, 14, 32)   0           conv2d_9[0][0]                   \n",
      "__________________________________________________________________________________________________\n",
      "max_pooling2d_6 (MaxPooling2D)  (None, 7, 7, 64)     0           dropout_6[0][0]                  \n",
      "__________________________________________________________________________________________________\n",
      "max_pooling2d_9 (MaxPooling2D)  (None, 7, 7, 32)     0           dropout_9[0][0]                  \n",
      "__________________________________________________________________________________________________\n",
      "conv2d_7 (Conv2D)               (None, 7, 7, 128)    73856       max_pooling2d_6[0][0]            \n",
      "__________________________________________________________________________________________________\n",
      "conv2d_10 (Conv2D)              (None, 7, 7, 32)     9248        max_pooling2d_9[0][0]            \n",
      "__________________________________________________________________________________________________\n",
      "dropout_7 (Dropout)             (None, 7, 7, 128)    0           conv2d_7[0][0]                   \n",
      "__________________________________________________________________________________________________\n",
      "dropout_10 (Dropout)            (None, 7, 7, 32)     0           conv2d_10[0][0]                  \n",
      "__________________________________________________________________________________________________\n",
      "max_pooling2d_7 (MaxPooling2D)  (None, 3, 3, 128)    0           dropout_7[0][0]                  \n",
      "__________________________________________________________________________________________________\n",
      "max_pooling2d_10 (MaxPooling2D) (None, 3, 3, 32)     0           dropout_10[0][0]                 \n",
      "__________________________________________________________________________________________________\n",
      "concatenate (Concatenate)       (None, 3, 3, 160)    0           max_pooling2d_7[0][0]            \n",
      "                                                                 max_pooling2d_10[0][0]           \n",
      "__________________________________________________________________________________________________\n",
      "flatten (Flatten)               (None, 1440)         0           concatenate[0][0]                \n",
      "__________________________________________________________________________________________________\n",
      "dropout_11 (Dropout)            (None, 1440)         0           flatten[0][0]                    \n",
      "__________________________________________________________________________________________________\n",
      "dense (Dense)                   (None, 10)           14410       dropout_11[0][0]                 \n",
      "==================================================================================================\n",
      "Total params: 125,898\n",
      "Trainable params: 125,898\n",
      "Non-trainable params: 0\n",
      "__________________________________________________________________________________________________\n"
     ]
    }
   ],
   "source": [
    "model.summary()"
   ]
  },
  {
   "cell_type": "code",
   "execution_count": 36,
   "metadata": {},
   "outputs": [],
   "source": [
    "model.compile(\n",
    "    loss = 'categorical_crossentropy',\n",
    "    optimizer = 'adam',\n",
    "    metrics =['accuracy']\n",
    ")"
   ]
  },
  {
   "cell_type": "code",
   "execution_count": null,
   "metadata": {},
   "outputs": [],
   "source": []
  },
  {
   "cell_type": "code",
   "execution_count": null,
   "metadata": {},
   "outputs": [
    {
     "name": "stdout",
     "output_type": "stream",
     "text": [
      "Epoch 1/20\n",
      "1875/1875 [==============================] - 84s 44ms/step - loss: 0.4191 - accuracy: 0.8610 - val_loss: 0.1970 - val_accuracy: 0.9807\n",
      "Epoch 2/20\n",
      "1875/1875 [==============================] - 82s 44ms/step - loss: 0.0809 - accuracy: 0.9739 - val_loss: 0.1153 - val_accuracy: 0.9898\n",
      "Epoch 3/20\n",
      "1875/1875 [==============================] - 83s 44ms/step - loss: 0.0653 - accuracy: 0.9804 - val_loss: 0.0579 - val_accuracy: 0.9914\n",
      "Epoch 4/20\n",
      "1875/1875 [==============================] - 83s 44ms/step - loss: 0.0551 - accuracy: 0.9826 - val_loss: 0.0449 - val_accuracy: 0.9926\n",
      "Epoch 5/20\n",
      "1875/1875 [==============================] - 84s 45ms/step - loss: 0.0462 - accuracy: 0.9860 - val_loss: 0.0624 - val_accuracy: 0.9922\n",
      "Epoch 6/20\n",
      "1875/1875 [==============================] - 85s 45ms/step - loss: 0.0433 - accuracy: 0.9863 - val_loss: 0.0463 - val_accuracy: 0.9920cy: 0.98\n",
      "Epoch 7/20\n",
      "1875/1875 [==============================] - 85s 45ms/step - loss: 0.0430 - accuracy: 0.9869 - val_loss: 0.0495 - val_accuracy: 0.9908\n",
      "Epoch 8/20\n",
      "1875/1875 [==============================] - 85s 45ms/step - loss: 0.0425 - accuracy: 0.9868 - val_loss: 0.0410 - val_accuracy: 0.9932\n",
      "Epoch 9/20\n",
      "1875/1875 [==============================] - 85s 45ms/step - loss: 0.0399 - accuracy: 0.9884 - val_loss: 0.0392 - val_accuracy: 0.9926\n",
      "Epoch 10/20\n",
      "1875/1875 [==============================] - 86s 46ms/step - loss: 0.0369 - accuracy: 0.9879 - val_loss: 0.0450 - val_accuracy: 0.9932\n",
      "Epoch 11/20\n",
      "1875/1875 [==============================] - 89s 47ms/step - loss: 0.0377 - accuracy: 0.9880 - val_loss: 0.0459 - val_accuracy: 0.9936\n",
      "Epoch 12/20\n",
      "1875/1875 [==============================] - 87s 46ms/step - loss: 0.0354 - accuracy: 0.9892 - val_loss: 0.0420 - val_accuracy: 0.9928\n",
      "Epoch 13/20\n",
      "1875/1875 [==============================] - 86s 46ms/step - loss: 0.0351 - accuracy: 0.9890 - val_loss: 0.0449 - val_accuracy: 0.9932\n",
      "Epoch 14/20\n",
      "1875/1875 [==============================] - 88s 47ms/step - loss: 0.0335 - accuracy: 0.9897 - val_loss: 0.0322 - val_accuracy: 0.9942\n",
      "Epoch 15/20\n",
      "1875/1875 [==============================] - 88s 47ms/step - loss: 0.0377 - accuracy: 0.9884 - val_loss: 0.0350 - val_accuracy: 0.9931\n",
      "Epoch 16/20\n",
      "1875/1875 [==============================] - 87s 46ms/step - loss: 0.0332 - accuracy: 0.9891 - val_loss: 0.0403 - val_accuracy: 0.9931\n",
      "Epoch 17/20\n",
      "1875/1875 [==============================] - 86s 46ms/step - loss: 0.0336 - accuracy: 0.9896 - val_loss: 0.0386 - val_accuracy: 0.9916\n",
      "Epoch 18/20\n",
      "1875/1875 [==============================] - 88s 47ms/step - loss: 0.0355 - accuracy: 0.9889 - val_loss: 0.0298 - val_accuracy: 0.9927\n",
      "Epoch 19/20\n",
      "1875/1875 [==============================] - 86s 46ms/step - loss: 0.0313 - accuracy: 0.9904 - val_loss: 0.0332 - val_accuracy: 0.9931\n",
      "Epoch 20/20\n",
      "  66/1875 [>.............................] - ETA: 1:22 - loss: 0.0246 - accuracy: 0.9917"
     ]
    }
   ],
   "source": [
    "#Y_network이므로 input -> 2\n",
    "model.fit(\n",
    "    [x_train,x_train],\n",
    "    y_train,\n",
    "    validation_data=([x_test,x_test],y_test),\n",
    "    epochs = 20,\n",
    "    batch_size = batch_size\n",
    ")"
   ]
  },
  {
   "cell_type": "markdown",
   "metadata": {},
   "source": [
    "Code review\n",
    "-----------\n",
    "   정확도에서 큰 개선이 일어나지는 않지만 Y_Network를 사용함으로써 두배의 parameter 양을 채워주어야 한다.   \n",
    "   따라서 사용의 정의를 잘 내리는 것도 중요하다.\n",
    "        "
   ]
  },
  {
   "cell_type": "code",
   "execution_count": null,
   "metadata": {},
   "outputs": [],
   "source": []
  }
 ],
 "metadata": {
  "kernelspec": {
   "display_name": "Python 3",
   "language": "python",
   "name": "python3"
  },
  "language_info": {
   "codemirror_mode": {
    "name": "ipython",
    "version": 3
   },
   "file_extension": ".py",
   "mimetype": "text/x-python",
   "name": "python",
   "nbconvert_exporter": "python",
   "pygments_lexer": "ipython3",
   "version": "3.8.5"
  }
 },
 "nbformat": 4,
 "nbformat_minor": 4
}
