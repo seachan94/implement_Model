{
 "cells": [
  {
   "cell_type": "code",
   "execution_count": 2,
   "metadata": {},
   "outputs": [],
   "source": [
    "import tensorflow as tf\n",
    "from tensorflow.keras.layers import *\n",
    "from tensorflow.keras.models import Model"
   ]
  },
  {
   "cell_type": "code",
   "execution_count": 3,
   "metadata": {},
   "outputs": [],
   "source": [
    "class GMP:\n",
    "    \n",
    "    def __init__(self, user_num, item_num):\n",
    "        \n",
    "        latent_features = 8\n",
    "        \n",
    "        #embedding user\n",
    "        \n",
    "        user = Input(shape(1,),dtype = 'int32')\n",
    "        #Embedding ( user 수 , latent Feature 크기(embedding 뒤 vector 크기), input size)\n",
    "        user_embedding = Embedding(\n",
    "            user_num,\n",
    "            latent_features,\n",
    "            input_length = user.shape[1]     \n",
    "        )(user)\n",
    "        user_embedding = Flatten()(user_embedding)\n",
    "        \n",
    "        #embedding item\n",
    "        \n",
    "        item = Input(shape(1,),dtype = 'int32')\n",
    "        item_embedding = Embedding(\n",
    "            item_num,\n",
    "            latent_features,\n",
    "            input_length = item.shape[1]\n",
    "        )(item)\n",
    "        \n",
    "        item_embedding = Flatten()(item_embedding)\n",
    "        \n",
    "        #Merge\n",
    "        concatenated = Multiply()([user_embedding , item_embedding])\n",
    "        \n",
    "        out_layer = Dense(\n",
    "            1, \n",
    "            kernel_initializer = 'lecum_uniform',\n",
    "            name = 'output_layer'\n",
    "        )(concatenated)\n",
    "        \n",
    "        self.model = Model([user,item,out_layer])\n",
    "        self.model.complie(\n",
    "            optimizer = 'adam',\n",
    "            loss = 'binary_crossentropy'\n",
    "        )\n",
    "        \n",
    "    def ModelGMF(self):\n",
    "        \n",
    "        model = self.model\n",
    "        return model"
   ]
  },
  {
   "cell_type": "code",
   "execution_count": null,
   "metadata": {},
   "outputs": [],
   "source": []
  }
 ],
 "metadata": {
  "kernelspec": {
   "display_name": "Python 3",
   "language": "python",
   "name": "python3"
  },
  "language_info": {
   "codemirror_mode": {
    "name": "ipython",
    "version": 3
   },
   "file_extension": ".py",
   "mimetype": "text/x-python",
   "name": "python",
   "nbconvert_exporter": "python",
   "pygments_lexer": "ipython3",
   "version": "3.8.5"
  }
 },
 "nbformat": 4,
 "nbformat_minor": 4
}
