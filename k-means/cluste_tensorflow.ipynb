{
 "cells": [
  {
   "cell_type": "code",
   "execution_count": 48,
   "metadata": {},
   "outputs": [],
   "source": [
    "import tensorflow as tf\n",
    "import pandas as pd\n",
    "import numpy as np\n",
    "import matplotlib.pyplot as plt\n",
    "import seaborn as sns"
   ]
  },
  {
   "cell_type": "code",
   "execution_count": 49,
   "metadata": {},
   "outputs": [],
   "source": [
    "data = np.array(pd.read_excel('data/CustomerDataSet.xls')[['ItemsBought', 'ItemsReturned']])"
   ]
  },
  {
   "cell_type": "code",
   "execution_count": 50,
   "metadata": {},
   "outputs": [],
   "source": [
    "checks = data.copy()"
   ]
  },
  {
   "cell_type": "code",
   "execution_count": 51,
   "metadata": {},
   "outputs": [
    {
     "name": "stderr",
     "output_type": "stream",
     "text": [
      "C:\\Users\\KTDS\\anaconda3\\lib\\site-packages\\seaborn\\_decorators.py:36: FutureWarning: Pass the following variables as keyword args: x, y. From version 0.12, the only valid positional argument will be `data`, and passing other arguments without an explicit keyword will result in an error or misinterpretation.\n",
      "  warnings.warn(\n"
     ]
    },
    {
     "data": {
      "image/png": "[encoded data removed]",
      "text/plain": [
       "<Figure size 432x432 with 1 Axes>"
      ]
     },
     "metadata": {
      "needs_background": "light"
     },
     "output_type": "display_data"
    }
   ],
   "source": [
    "df = pd.DataFrame({\"x\": [v[0] for v in checks],\n",
    "        \"y\": [v[1] for v in checks]})\n",
    "sns.lmplot(\"x\", \"y\", data=df, fit_reg=False, height=6)\n",
    "plt.show()"
   ]
  },
  {
   "cell_type": "code",
   "execution_count": 52,
   "metadata": {},
   "outputs": [],
   "source": [
    "def MinMaxScalar(x):\n",
    "    \n",
    "    #np.min(data , axis =0 -> 열 1-> 행) 열에서 최솟갑을 얻을 것이냐\n",
    "    \n",
    "    numerator = x - np.min(x,0)\n",
    "    denominator = np.max(x,0) - np.min(x,0)\n",
    "    \n",
    "    return numerator / (denominator+1e-5)\n"
   ]
  },
  {
   "cell_type": "code",
   "execution_count": 53,
   "metadata": {},
   "outputs": [],
   "source": [
    "k = 4\n",
    "vectors = tf.constant(MinMaxScalar(checks)) # change tensor from data\n",
    "centroides = tf.Variable(tf.slice(tf.random.shuffle(vectors), [0,0],[k,-1] ))\n"
   ]
  },
  {
   "cell_type": "code",
   "execution_count": 54,
   "metadata": {},
   "outputs": [],
   "source": [
    "\n",
    "def get_cluster_means(idx,data,value):\n",
    "    \n",
    "    mid = tf.equal(data,idx)\n",
    "    mid = tf.where(mid)\n",
    "    mid = tf.reshape(mid,[1,-1])\n",
    "    mid = tf.gather(value,mid)\n",
    "    mean = tf.reduce_mean(mid,axis = 1)\n",
    "    return mean\n",
    "\n",
    "\n",
    "\n",
    "\n"
   ]
  },
  {
   "cell_type": "code",
   "execution_count": 55,
   "metadata": {},
   "outputs": [
    {
     "name": "stdout",
     "output_type": "stream",
     "text": [
      "finish upload centroid\n"
     ]
    }
   ],
   "source": [
    "for step in range(10):\n",
    "    expanded_vectors = tf.expand_dims(vectors, 0) #0번째 차원 확장 추가\n",
    "    expanded_centroides = tf.expand_dims(centroides, 1) # 1번째 차원 확장 추가\n",
    "    assignments = tf.argmin(tf.reduce_sum(tf.square(tf.subtract(expanded_vectors, expanded_centroides)), 2), 0)\n",
    "    means = tf.concat([get_cluster_means(c,assignments,vectors) for c in range(k)],axis = 0)\n",
    "    \n",
    "    if centroides.numpy().all() == means.numpy().all():\n",
    "        print(\"finish upload centroid\")\n",
    "        break\n",
    "    \n",
    "    centroides.assign(means)\n",
    "    \n",
    "    #거리 평균을 이용해 new centroid를 찾음"
   ]
  },
  {
   "cell_type": "code",
   "execution_count": 57,
   "metadata": {},
   "outputs": [],
   "source": [
    "data = {\"x\": [], \"y\": [], \"cluster\": []}\n",
    "for i in range(assignments.shape[0]):\n",
    "    data[\"x\"].append(vectors[i][0].numpy())\n",
    "    data[\"y\"].append(vectors[i][1].numpy())\n",
    "    data[\"cluster\"].append(assignments[i].numpy())\n",
    "    \n"
   ]
  },
  {
   "cell_type": "code",
   "execution_count": 58,
   "metadata": {},
   "outputs": [
    {
     "name": "stderr",
     "output_type": "stream",
     "text": [
      "C:\\Users\\KTDS\\anaconda3\\lib\\site-packages\\seaborn\\regression.py:580: UserWarning: The `size` parameter has been renamed to `height`; please update your code.\n",
      "  warnings.warn(msg, UserWarning)\n"
     ]
    },
    {
     "data": {
      "image/png": "[encoded data removed]",
      "text/plain": [
       "<Figure size 504x504 with 1 Axes>"
      ]
     },
     "metadata": {
      "needs_background": "light"
     },
     "output_type": "display_data"
    }
   ],
   "source": [
    "\n",
    "df = pd.DataFrame(data)\n",
    "sns.lmplot(\"x\", \"y\", data=df, \n",
    "           fit_reg=False, size=7, \n",
    "           hue=\"cluster\", legend=False)\n",
    "plt.show()"
   ]
  },
  {
   "cell_type": "code",
   "execution_count": null,
   "metadata": {},
   "outputs": [],
   "source": []
  }
 ],
 "metadata": {
  "kernelspec": {
   "display_name": "Python 3",
   "language": "python",
   "name": "python3"
  },
  "language_info": {
   "codemirror_mode": {
    "name": "ipython",
    "version": 3
   },
   "file_extension": ".py",
   "mimetype": "text/x-python",
   "name": "python",
   "nbconvert_exporter": "python",
   "pygments_lexer": "ipython3",
   "version": "3.8.5"
  }
 },
 "nbformat": 4,
 "nbformat_minor": 4
}
