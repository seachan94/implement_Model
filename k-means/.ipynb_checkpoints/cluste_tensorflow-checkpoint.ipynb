{
 "cells": [
  {
   "cell_type": "code",
   "execution_count": 214,
   "metadata": {},
   "outputs": [],
   "source": [
    "import tensorflow as tf\n",
    "import pandas as pd\n",
    "import numpy as np\n",
    "import matplotlib.pyplot as plt\n",
    "import seaborn as sns"
   ]
  },
  {
   "cell_type": "code",
   "execution_count": 215,
   "metadata": {},
   "outputs": [],
   "source": [
    "data = np.array(pd.read_excel('data/CustomerDataSet.xls')[['ItemsBought', 'ItemsReturned']])"
   ]
  },
  {
   "cell_type": "code",
   "execution_count": 216,
   "metadata": {},
   "outputs": [],
   "source": [
    "checks = data.copy()"
   ]
  },
  {
   "cell_type": "code",
   "execution_count": 219,
   "metadata": {},
   "outputs": [
    {
     "data": {
      "image/png": "[encoded data removed]",
      "text/plain": [
       "<Figure size 432x432 with 1 Axes>"
      ]
     },
     "metadata": {
      "needs_background": "light"
     },
     "output_type": "display_data"
    }
   ],
   "source": [
    "df = pd.DataFrame({\"x\": [v[0] for v in checks],\n",
    "        \"y\": [v[1] for v in checks]})\n",
    "sns.lmplot(\"x\", \"y\", data=df, fit_reg=False, height=6)\n",
    "plt.show()"
   ]
  },
  {
   "cell_type": "code",
   "execution_count": 220,
   "metadata": {},
   "outputs": [],
   "source": [
    "def MinMaxScalar(x):\n",
    "    \n",
    "    #np.min(data , axis =0 -> 열 1-> 행) 열에서 최솟갑을 얻을 것이냐\n",
    "    \n",
    "    numerator = x - np.min(x,0)\n",
    "    denominator = np.max(x,0) - np.min(x,0)\n",
    "    \n",
    "    return numerator / (denominator+1e-5)\n"
   ]
  },
  {
   "cell_type": "code",
   "execution_count": 221,
   "metadata": {},
   "outputs": [],
   "source": [
    "k = 4\n",
    "vectors = tf.constant(MinMaxScalar(checks)) # change tensor from data\n",
    "centroides = tf.Variable(tf.slice(tf.random.shuffle(vectors), [0,0],[k,-1] ))\n"
   ]
  },
  {
   "cell_type": "code",
   "execution_count": 233,
   "metadata": {},
   "outputs": [
    {
     "data": {
      "text/plain": [
       "(<tf.Tensor 'Const_13:0' shape=(2,) dtype=int32>,\n",
       " array([[45, 10],\n",
       "        [42, 18],\n",
       "        [50,  0],\n",
       "        [13, 12],\n",
       "        [10,  7],\n",
       "        [34, 17],\n",
       "        [40, 20],\n",
       "        [40,  8],\n",
       "        [ 9,  9],\n",
       "        [36,  7],\n",
       "        [42,  1],\n",
       "        [46,  1],\n",
       "        [41, 22]], dtype=int64))"
      ]
     },
     "execution_count": 233,
     "metadata": {},
     "output_type": "execute_result"
    }
   ],
   "source": [
    "tf.constant([0,1]),checks"
   ]
  },
  {
   "cell_type": "code",
   "execution_count": 213,
   "metadata": {},
   "outputs": [],
   "source": [
    "\n",
    "def get_cluster_means(idx,data,value):\n",
    "    \n",
    "    mid = tf.equal(data,idx)\n",
    "    mid = tf.where(mid)\n",
    "    mid = tf.reshape(mid,[1,-1])\n",
    "    mid = tf.gather(value,mid)\n",
    "    mean = tf.reduce_mean(mid,axis = 1)\n",
    "    return mean\n",
    "\n",
    "\n",
    "\n",
    "\n"
   ]
  },
  {
   "cell_type": "code",
   "execution_count": null,
   "metadata": {},
   "outputs": [],
   "source": []
  },
  {
   "cell_type": "code",
   "execution_count": 152,
   "metadata": {},
   "outputs": [
    {
     "data": {
      "text/plain": [
       "TensorShape([Dimension(4), Dimension(1), Dimension(2)])"
      ]
     },
     "execution_count": 152,
     "metadata": {},
     "output_type": "execute_result"
    }
   ],
   "source": [
    "expanded_centroides.shape"
   ]
  },
  {
   "cell_type": "code",
   "execution_count": 196,
   "metadata": {},
   "outputs": [],
   "source": [
    "for step in range(10):\n",
    "    expanded_vectors = tf.expand_dims(vectors, 0) #0번째 차원 확장 추가\n",
    "    expanded_centroides = tf.expand_dims(centroides, 1) # 1번째 차원 확장 추가\n",
    "    assignments = tf.argmin(tf.reduce_sum(tf.square(tf.subtract(expanded_vectors, expanded_centroides)), 2), 0)\n",
    "    #print(\"assignments\",assignments)\n",
    "    means = tf.concat([get_cluster_means(c,assignments,vectors) for c in range(k)],axis = 0)\n",
    "    #print(\"means\",means)\n",
    "    centroides.assign(means)\n",
    "    #거리 평균을 이용해 new centroid를 찾음"
   ]
  },
  {
   "cell_type": "code",
   "execution_count": 200,
   "metadata": {},
   "outputs": [
    {
     "data": {
      "text/plain": [
       "<tf.Variable 'Variable_2:0' shape=(4, 2) dtype=float64>"
      ]
     },
     "execution_count": 200,
     "metadata": {},
     "output_type": "execute_result"
    }
   ],
   "source": []
  },
  {
   "cell_type": "code",
   "execution_count": 161,
   "metadata": {},
   "outputs": [],
   "source": [
    "data = {\"x\": [], \"y\": [], \"cluster\": []}\n",
    "for i in range(assignments.shape[0]):\n",
    "    data[\"x\"].append(vectors[i][0])\n",
    "    data[\"y\"].append(vectors[i][1])\n",
    "    data[\"cluster\"].append(assignments[i])\n",
    "    \n"
   ]
  },
  {
   "cell_type": "code",
   "execution_count": null,
   "metadata": {},
   "outputs": [],
   "source": []
  },
  {
   "cell_type": "code",
   "execution_count": null,
   "metadata": {},
   "outputs": [],
   "source": [
    "tf.compat.v1.reset_default_graph()\n",
    "\n",
    "df = pd.DataFrame(data)\n",
    "sns.lmplot(\"x\", \"y\", data=df, \n",
    "           fit_reg=False, size=7, \n",
    "           hue=\"cluster\", legend=False)\n",
    "plt.show()"
   ]
  },
  {
   "cell_type": "code",
   "execution_count": null,
   "metadata": {},
   "outputs": [],
   "source": [
    "df = pd.DataFrame({\"x\": [v[0] for v in checks],\n",
    "        \"y\": [v[1] for v in checks]})\n",
    "sns.lmplot(\"x\", \"y\", data=df, fit_reg=False, size=6)\n",
    "plt.show()"
   ]
  },
  {
   "cell_type": "code",
   "execution_count": 163,
   "metadata": {},
   "outputs": [],
   "source": [
    "df = pd.DataFrame(data)"
   ]
  },
  {
   "cell_type": "code",
   "execution_count": 167,
   "metadata": {},
   "outputs": [
    {
     "data": {
      "text/plain": [
       "<tf.Tensor 'Const:0' shape=(13, 2) dtype=float64>"
      ]
     },
     "execution_count": 167,
     "metadata": {},
     "output_type": "execute_result"
    }
   ],
   "source": [
    "vectors"
   ]
  },
  {
   "cell_type": "code",
   "execution_count": null,
   "metadata": {},
   "outputs": [],
   "source": []
  },
  {
   "cell_type": "code",
   "execution_count": null,
   "metadata": {},
   "outputs": [],
   "source": []
  },
  {
   "cell_type": "code",
   "execution_count": null,
   "metadata": {},
   "outputs": [],
   "source": []
  }
 ],
 "metadata": {
  "kernelspec": {
   "display_name": "Python 3",
   "language": "python",
   "name": "python3"
  },
  "language_info": {
   "codemirror_mode": {
    "name": "ipython",
    "version": 3
   },
   "file_extension": ".py",
   "mimetype": "text/x-python",
   "name": "python",
   "nbconvert_exporter": "python",
   "pygments_lexer": "ipython3",
   "version": "3.8.5"
  }
 },
 "nbformat": 4,
 "nbformat_minor": 4
}
