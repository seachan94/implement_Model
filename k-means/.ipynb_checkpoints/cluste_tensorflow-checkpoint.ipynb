{
 "cells": [
  {
   "cell_type": "code",
   "execution_count": 2,
   "metadata": {},
   "outputs": [],
   "source": [
    "import tensorflow as tf\n",
    "import pandas as pd\n",
    "import numpy as np"
   ]
  },
  {
   "cell_type": "code",
   "execution_count": 10,
   "metadata": {},
   "outputs": [],
   "source": [
    "data = np.array(pd.read_excel('data/CustomerDataSet.xls')[['ItemsBought', 'ItemsReturned']])"
   ]
  },
  {
   "cell_type": "code",
   "execution_count": 12,
   "metadata": {},
   "outputs": [
    {
     "data": {
      "text/plain": [
       "array([[45, 10],\n",
       "       [42, 18],\n",
       "       [50,  0],\n",
       "       [13, 12],\n",
       "       [10,  7],\n",
       "       [34, 17],\n",
       "       [40, 20],\n",
       "       [40,  8],\n",
       "       [ 9,  9],\n",
       "       [36,  7],\n",
       "       [42,  1],\n",
       "       [46,  1],\n",
       "       [41, 22]], dtype=int64)"
      ]
     },
     "execution_count": 12,
     "metadata": {},
     "output_type": "execute_result"
    }
   ],
   "source": [
    "data"
   ]
  },
  {
   "cell_type": "code",
   "execution_count": 16,
   "metadata": {},
   "outputs": [],
   "source": [
    "checks = data.copy()"
   ]
  },
  {
   "cell_type": "code",
   "execution_count": 22,
   "metadata": {},
   "outputs": [],
   "source": [
    "def MinMaxScalar(x):\n",
    "    \n",
    "    numerator = x - np.min(x,0)\n",
    "    denominator = np.max(x,0) - np.min(x,0)\n",
    "    \n",
    "    return numerator / (denominator+1e-5)\n"
   ]
  },
  {
   "cell_type": "code",
   "execution_count": 23,
   "metadata": {},
   "outputs": [
    {
     "data": {
      "text/plain": [
       "array([[0.87804857, 0.45454525],\n",
       "       [0.80487785, 0.81818145],\n",
       "       [0.99999976, 0.        ],\n",
       "       [0.09756095, 0.5454543 ],\n",
       "       [0.02439024, 0.31818167],\n",
       "       [0.60975595, 0.77272692],\n",
       "       [0.75609738, 0.9090905 ],\n",
       "       [0.75609738, 0.3636362 ],\n",
       "       [0.        , 0.40909072],\n",
       "       [0.65853642, 0.31818167],\n",
       "       [0.80487785, 0.04545452],\n",
       "       [0.9024388 , 0.04545452],\n",
       "       [0.78048761, 0.99999955]])"
      ]
     },
     "execution_count": 23,
     "metadata": {},
     "output_type": "execute_result"
    }
   ],
   "source": [
    "MinMaxScalar(checks)"
   ]
  },
  {
   "cell_type": "code",
   "execution_count": null,
   "metadata": {},
   "outputs": [],
   "source": []
  }
 ],
 "metadata": {
  "kernelspec": {
   "display_name": "Python 3",
   "language": "python",
   "name": "python3"
  },
  "language_info": {
   "codemirror_mode": {
    "name": "ipython",
    "version": 3
   },
   "file_extension": ".py",
   "mimetype": "text/x-python",
   "name": "python",
   "nbconvert_exporter": "python",
   "pygments_lexer": "ipython3",
   "version": "3.8.5"
  }
 },
 "nbformat": 4,
 "nbformat_minor": 4
}
