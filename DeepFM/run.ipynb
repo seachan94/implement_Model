{
 "cells": [
  {
   "cell_type": "code",
   "execution_count": 1,
   "metadata": {},
   "outputs": [
    {
     "name": "stdout",
     "output_type": "stream",
     "text": [
      "importing Jupyter notebook from config.ipynb\n",
      "importing Jupyter notebook from processingdata.ipynb\n",
      "importing Jupyter notebook from DeepFM.ipynb\n",
      "importing Jupyter notebook from FMlayer.ipynb\n"
     ]
    }
   ],
   "source": [
    "import import_ipynb # ipynb load 위한 모듈\n",
    "import config\n",
    "from processingdata import get_modified_data\n",
    "from DeepFM import DeepFM\n",
    "\n",
    "import numpy as np\n",
    "import pandas as pd\n",
    "from time import perf_counter\n",
    "import tensorflow as tf\n",
    "from sklearn.model_selection import train_test_split\n",
    "from tensorflow.keras.metrics import BinaryAccuracy, AUC"
   ]
  },
  {
   "cell_type": "code",
   "execution_count": 15,
   "metadata": {},
   "outputs": [],
   "source": [
    "\n",
    "\n",
    "\n",
    "def get_data():\n",
    "    file = pd.read_csv('data/adult_csv.csv', header=None)\n",
    "    file = file.dropna()\n",
    "    file = file.drop(file.index[0],axis = 0)\n",
    "    file = file.reset_index(drop = True)\n",
    "    X = file.loc[:, 0:13]\n",
    "    Y = file.loc[:, 14].map({'<=50K': 0, '>50K': 1})\n",
    "    \n",
    "    \n",
    "    X.columns = config.ALL_FIELDS\n",
    "    \n",
    "    field_dict, field_index, X_modified = \\\n",
    "        get_modified_data(X, config.ALL_FIELDS, config.CONT_FIELDS, config.CAT_FIELDS, False)\n",
    "    \n",
    "    X_train, X_test, Y_train, Y_test = train_test_split(X_modified, Y, test_size=0.2, stratify=Y)\n",
    "    \n",
    "    train_ds = tf.data.Dataset.from_tensor_slices(\n",
    "        (\n",
    "            tf.cast(X_train.values, tf.float32), \n",
    "            tf.cast(Y_train, tf.float32)\n",
    "        )\n",
    "    ) \\\n",
    "        .shuffle(30000).batch(config.BATCH_SIZE)\n",
    "\n",
    "    test_ds = tf.data.Dataset.from_tensor_slices(\n",
    "        (tf.cast(X_test.values, tf.float32), tf.cast(Y_test, tf.float32))) \\\n",
    "        .shuffle(10000).batch(config.BATCH_SIZE)\n",
    "    return train_ds, test_ds, field_dict, field_index\n",
    "\n",
    "\n",
    "# Batch 단위 학습\n",
    "def train_on_batch(model, optimizer, acc, auc, inputs, targets):\n",
    "    with tf.GradientTape() as tape:\n",
    "        y_pred = model(inputs)\n",
    "        loss = tf.keras.losses.binary_crossentropy(from_logits=False, y_true=targets, y_pred=y_pred)\n",
    "\n",
    "    grads = tape.gradient(target=loss, sources=model.trainable_variables)\n",
    "\n",
    "    # apply_gradients()를 통해 processed gradients를 적용함\n",
    "    optimizer.apply_gradients(zip(grads, model.trainable_variables))\n",
    "\n",
    "    # accuracy & auc\n",
    "    acc.update_state(targets, y_pred)\n",
    "    auc.update_state(targets, y_pred)\n",
    "\n",
    "    return loss\n",
    "\n",
    "\n",
    "# 반복 학습 함수\n",
    "def train(epochs):\n",
    "    train_ds, test_ds, field_dict, field_index = get_data()\n",
    "    model = DeepFM(embedding_size=config.EMBEDDING_SIZE, num_feature=len(field_index),\n",
    "                   num_field=len(field_dict), field_index=field_index)\n",
    "    \n",
    "    print(field_dict)\n",
    "    print(field_index)\n",
    "    optimizer = tf.keras.optimizers.SGD(learning_rate=0.01)\n",
    "\n",
    "    print(\"Start Training: Batch Size: {}, Embedding Size: {}\".format(config.BATCH_SIZE, config.EMBEDDING_SIZE))\n",
    "    start = perf_counter()\n",
    "    for i in range(epochs):\n",
    "        acc = BinaryAccuracy(threshold=0.8)\n",
    "        auc = AUC()\n",
    "        loss_history = []\n",
    "\n",
    "        for x, y in train_ds:\n",
    "            loss = train_on_batch(model, optimizer, acc, auc, x, y)\n",
    "            loss_history.append(loss)\n",
    "\n",
    "        print(\"Epoch {:03d}: 누적 Loss: {:.4f}, Acc: {:.4f}, AUC: {:.4f}\".format(\n",
    "            i, np.mean(loss_history), acc.result().numpy(), auc.result().numpy()))\n",
    "\n",
    "    test_acc = BinaryAccuracy(threshold=0.5)\n",
    "    test_auc = AUC()\n",
    "    for x, y in test_ds:\n",
    "        y_pred = model(x)\n",
    "        test_acc.update_state(y, y_pred)\n",
    "        test_auc.update_state(y, y_pred)\n",
    "\n",
    "    print(\"테스트 ACC: {:.4f}, AUC: {:.4f}\".format(test_acc.result().numpy(), test_auc.result().numpy()))\n",
    "    print(\"Batch Size: {}, Embedding Size: {}\".format(config.BATCH_SIZE, config.EMBEDDING_SIZE))\n",
    "    print(\"걸린 시간: {:.3f}\".format(perf_counter() - start))"
   ]
  },
  {
   "cell_type": "code",
   "execution_count": 16,
   "metadata": {},
   "outputs": [
    {
     "name": "stdout",
     "output_type": "stream",
     "text": [
      "Data Prepared...\n",
      "X shape: (45222, 104)\n",
      "# of Feature: 104\n",
      "# of Field: 14\n",
      "{0: 'age', 1: ['workclass-Federal-gov', 'workclass-Local-gov', 'workclass-Private', 'workclass-Self-emp-inc', 'workclass-Self-emp-not-inc', 'workclass-State-gov', 'workclass-Without-pay'], 2: 'fnlwgt', 3: ['education-10th', 'education-11th', 'education-12th', 'education-1st-4th', 'education-5th-6th', 'education-7th-8th', 'education-9th', 'education-Assoc-acdm', 'education-Assoc-voc', 'education-Bachelors', 'education-Doctorate', 'education-HS-grad', 'education-Masters', 'education-Preschool', 'education-Prof-school', 'education-Some-college'], 4: 'education-num', 5: ['marital-status-Divorced', 'marital-status-Married-AF-spouse', 'marital-status-Married-civ-spouse', 'marital-status-Married-spouse-absent', 'marital-status-Never-married', 'marital-status-Separated', 'marital-status-Widowed'], 6: ['occupation-Adm-clerical', 'occupation-Armed-Forces', 'occupation-Craft-repair', 'occupation-Exec-managerial', 'occupation-Farming-fishing', 'occupation-Handlers-cleaners', 'occupation-Machine-op-inspct', 'occupation-Other-service', 'occupation-Priv-house-serv', 'occupation-Prof-specialty', 'occupation-Protective-serv', 'occupation-Sales', 'occupation-Tech-support', 'occupation-Transport-moving'], 7: ['relationship-Husband', 'relationship-Not-in-family', 'relationship-Other-relative', 'relationship-Own-child', 'relationship-Unmarried', 'relationship-Wife'], 8: ['race-Amer-Indian-Eskimo', 'race-Asian-Pac-Islander', 'race-Black', 'race-Other', 'race-White'], 9: ['sex-Female', 'sex-Male'], 10: 'capital-gain', 11: 'capital-loss', 12: 'hours-per-week', 13: ['native-country-Cambodia', 'native-country-Canada', 'native-country-China', 'native-country-Columbia', 'native-country-Cuba', 'native-country-Dominican-Republic', 'native-country-Ecuador', 'native-country-El-Salvador', 'native-country-England', 'native-country-France', 'native-country-Germany', 'native-country-Greece', 'native-country-Guatemala', 'native-country-Haiti', 'native-country-Holand-Netherlands', 'native-country-Honduras', 'native-country-Hong', 'native-country-Hungary', 'native-country-India', 'native-country-Iran', 'native-country-Ireland', 'native-country-Italy', 'native-country-Jamaica', 'native-country-Japan', 'native-country-Laos', 'native-country-Mexico', 'native-country-Nicaragua', 'native-country-Outlying-US(Guam-USVI-etc)', 'native-country-Peru', 'native-country-Philippines', 'native-country-Poland', 'native-country-Portugal', 'native-country-Puerto-Rico', 'native-country-Scotland', 'native-country-South', 'native-country-Taiwan', 'native-country-Thailand', 'native-country-Trinadad&Tobago', 'native-country-United-States', 'native-country-Vietnam', 'native-country-Yugoslavia']}\n",
      "[0, 1, 1, 1, 1, 1, 1, 1, 2, 3, 3, 3, 3, 3, 3, 3, 3, 3, 3, 3, 3, 3, 3, 3, 3, 4, 5, 5, 5, 5, 5, 5, 5, 6, 6, 6, 6, 6, 6, 6, 6, 6, 6, 6, 6, 6, 6, 7, 7, 7, 7, 7, 7, 8, 8, 8, 8, 8, 9, 9, 10, 11, 12, 13, 13, 13, 13, 13, 13, 13, 13, 13, 13, 13, 13, 13, 13, 13, 13, 13, 13, 13, 13, 13, 13, 13, 13, 13, 13, 13, 13, 13, 13, 13, 13, 13, 13, 13, 13, 13, 13, 13, 13, 13]\n",
      "Start Training: Batch Size: 256, Embedding Size: 5\n",
      "Epoch 000: 누적 Loss: 0.8239, Acc: 0.7208, AUC: 0.4223\n",
      "테스트 ACC: 0.6229, AUC: 0.4285\n",
      "Batch Size: 256, Embedding Size: 5\n",
      "걸린 시간: 2.283\n"
     ]
    }
   ],
   "source": [
    "train(1)"
   ]
  },
  {
   "cell_type": "code",
   "execution_count": 12,
   "metadata": {},
   "outputs": [
    {
     "name": "stdout",
     "output_type": "stream",
     "text": [
      "Data Prepared...\n",
      "X shape: (45222, 104)\n",
      "# of Feature: 104\n",
      "# of Field: 14\n"
     ]
    }
   ],
   "source": [
    "train_ds, test_ds, field_dict, field_index = get_data()"
   ]
  },
  {
   "cell_type": "code",
   "execution_count": 28,
   "metadata": {},
   "outputs": [],
   "source": [
    "file = pd.read_csv('data/adult_csv.csv', header=None)\n",
    "file = file.dropna()\n",
    "file = file.drop(file.index[0],axis = 0)\n",
    "file = file.reset_index(drop = True)\n",
    "X = file.loc[:, 0:13]\n",
    "Y = file.loc[:, 14].map({'<=50K': 0, '>50K': 1})\n"
   ]
  },
  {
   "cell_type": "code",
   "execution_count": 32,
   "metadata": {},
   "outputs": [],
   "source": [
    "x_batch = tf.reshape(X,[-1,14,1])"
   ]
  },
  {
   "cell_type": "code",
   "execution_count": 35,
   "metadata": {},
   "outputs": [
    {
     "data": {
      "text/plain": [
       "<tf.Tensor: shape=(45222, 14, 1), dtype=string, numpy=\n",
       "array([[[b'2'],\n",
       "        [b'State-gov'],\n",
       "        [b'77516'],\n",
       "        ...,\n",
       "        [b'0'],\n",
       "        [b'2'],\n",
       "        [b'United-States']],\n",
       "\n",
       "       [[b'3'],\n",
       "        [b'Self-emp-not-inc'],\n",
       "        [b'83311'],\n",
       "        ...,\n",
       "        [b'0'],\n",
       "        [b'0'],\n",
       "        [b'United-States']],\n",
       "\n",
       "       [[b'2'],\n",
       "        [b'Private'],\n",
       "        [b'215646'],\n",
       "        ...,\n",
       "        [b'0'],\n",
       "        [b'2'],\n",
       "        [b'United-States']],\n",
       "\n",
       "       ...,\n",
       "\n",
       "       [[b'2'],\n",
       "        [b'Private'],\n",
       "        [b'374983'],\n",
       "        ...,\n",
       "        [b'0'],\n",
       "        [b'3'],\n",
       "        [b'United-States']],\n",
       "\n",
       "       [[b'2'],\n",
       "        [b'Private'],\n",
       "        [b'83891'],\n",
       "        ...,\n",
       "        [b'0'],\n",
       "        [b'2'],\n",
       "        [b'United-States']],\n",
       "\n",
       "       [[b'1'],\n",
       "        [b'Self-emp-inc'],\n",
       "        [b'182148'],\n",
       "        ...,\n",
       "        [b'0'],\n",
       "        [b'3'],\n",
       "        [b'United-States']]], dtype=object)>"
      ]
     },
     "execution_count": 35,
     "metadata": {},
     "output_type": "execute_result"
    }
   ],
   "source": [
    "x_batch"
   ]
  },
  {
   "cell_type": "code",
   "execution_count": null,
   "metadata": {},
   "outputs": [],
   "source": []
  }
 ],
 "metadata": {
  "kernelspec": {
   "display_name": "Python 3",
   "language": "python",
   "name": "python3"
  },
  "language_info": {
   "codemirror_mode": {
    "name": "ipython",
    "version": 3
   },
   "file_extension": ".py",
   "mimetype": "text/x-python",
   "name": "python",
   "nbconvert_exporter": "python",
   "pygments_lexer": "ipython3",
   "version": "3.8.5"
  }
 },
 "nbformat": 4,
 "nbformat_minor": 4
}
