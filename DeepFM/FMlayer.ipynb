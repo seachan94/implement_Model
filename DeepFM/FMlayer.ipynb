{
 "cells": [
  {
   "cell_type": "code",
   "execution_count": 2,
   "metadata": {},
   "outputs": [],
   "source": [
    "import tensorflow as tf"
   ]
  },
  {
   "cell_type": "code",
   "execution_count": 3,
   "metadata": {},
   "outputs": [],
   "source": [
    "class FM_layer(tf.keras.layers.Layer):\n",
    "    def __init__(self, num_feature, num_field, embedding_size, field_index):\n",
    "        super(FM_layer, self).__init__()\n",
    "        self.embedding_size = embedding_size    # k: 임베딩 벡터의 차원(크기)\n",
    "        self.num_feature = num_feature          # f: 원래 feature 개수\n",
    "        self.num_field = num_field              # m: grouped field 개수\n",
    "        self.field_index = field_index          # 인코딩된 X의 칼럼들이 본래 어디 소속이었는지\n",
    "\n",
    "        # Parameters of FM Layer\n",
    "        # w: capture 1st order interactions\n",
    "        # V: capture 2nd order interactions\n",
    "        self.w = tf.Variable(tf.random.normal(shape=[num_feature],\n",
    "                                              mean=0.0, stddev=1.0), name='w')\n",
    "        self.V = tf.Variable(tf.random.normal(shape=(num_field, embedding_size),\n",
    "                                              mean=0.0, stddev=0.01), name='V')\n",
    "        \n",
    "    def call(self, inputs):\n",
    "        x_batch = tf.reshape(inputs, [-1, self.num_feature, 1])\n",
    "        # Parameter V를 field_index에 맞게 복사하여 num_feature에 맞게 늘림\n",
    "        \n",
    "        embeds = tf.nn.embedding_lookup(params=self.V, ids=self.field_index)\n",
    "        # Deep Component에서 쓸 Input\n",
    "        # (batch_size, num_feature, embedding_size)\n",
    "        new_inputs = tf.math.multiply(x_batch, embeds)\n",
    "\n",
    "        # (batch_size, )\n",
    "        linear_terms = tf.reduce_sum(\n",
    "            tf.math.multiply(self.w, inputs), axis=1, keepdims=False)\n",
    "\n",
    "        # (batch_size, )\n",
    "        interactions = 0.5 * tf.subtract(\n",
    "            tf.square(tf.reduce_sum(new_inputs, [1, 2])),\n",
    "            tf.reduce_sum(tf.square(new_inputs), [1, 2])\n",
    "        )\n",
    "\n",
    "        linear_terms = tf.reshape(linear_terms, [-1, 1])\n",
    "        interactions = tf.reshape(interactions, [-1, 1])\n",
    "\n",
    "        y_fm = tf.concat([linear_terms, interactions], 1)\n",
    "\n",
    "        return y_fm, new_inputs"
   ]
  },
  {
   "cell_type": "code",
   "execution_count": null,
   "metadata": {},
   "outputs": [],
   "source": []
  }
 ],
 "metadata": {
  "kernelspec": {
   "display_name": "Python 3",
   "language": "python",
   "name": "python3"
  },
  "language_info": {
   "codemirror_mode": {
    "name": "ipython",
    "version": 3
   },
   "file_extension": ".py",
   "mimetype": "text/x-python",
   "name": "python",
   "nbconvert_exporter": "python",
   "pygments_lexer": "ipython3",
   "version": "3.8.5"
  }
 },
 "nbformat": 4,
 "nbformat_minor": 4
}
