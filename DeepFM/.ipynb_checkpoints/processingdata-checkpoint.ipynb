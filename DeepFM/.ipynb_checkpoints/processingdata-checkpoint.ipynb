{
 "cells": [
  {
   "cell_type": "code",
   "execution_count": 4,
   "metadata": {},
   "outputs": [
    {
     "name": "stdout",
     "output_type": "stream",
     "text": [
      "importing Jupyter notebook from config.ipynb\n"
     ]
    }
   ],
   "source": [
    "import import_ipynb # ipynb load 위한 모듈\n",
    "import config\n",
    "from itertools import repeat\n",
    "import pandas as pd\n",
    "from sklearn.preprocessing import MinMaxScaler"
   ]
  },
  {
   "cell_type": "code",
   "execution_count": 7,
   "metadata": {},
   "outputs": [],
   "source": [
    "\n",
    "def get_modified_data(X, all_fields, continuous_fields, categorical_fields, is_bin=False):\n",
    "    field_dict = dict()\n",
    "    field_index = []\n",
    "    X_modified = pd.DataFrame()\n",
    "\n",
    "    for index, col in enumerate(X.columns):\n",
    "        \n",
    "        if col not in all_fields:\n",
    "            print(\"{} not included: Check your column list\".format(col))\n",
    "            raise ValueError\n",
    "\n",
    "        if col in continuous_fields:\n",
    "            scaler = MinMaxScaler()\n",
    "           \n",
    "            #X_cont_col = pd.DataFrame(scaler.fit_transform(X[[col]]), columns=[col])\n",
    "            X_cont_col = pd.DataFrame(X[[col]], columns=[col])\n",
    "            field_dict[index] = col\n",
    "            field_index.append(index)\n",
    "            X_modified = pd.concat([X_modified, X_cont_col], axis=1)\n",
    "\n",
    "        if col in categorical_fields:\n",
    "            X_cat_col = pd.get_dummies(X[col], prefix=col, prefix_sep='-')\n",
    "            field_dict[index] = list(X_cat_col.columns)\n",
    "            field_index.extend(repeat(index, X_cat_col.shape[1]))\n",
    "            X_modified = pd.concat([X_modified, X_cat_col], axis=1)\n",
    "    \n",
    "    print('Data Prepared...')\n",
    "    print('X shape: {}'.format(X_modified.shape))\n",
    "    print('# of Feature: {}'.format(len(field_index)))\n",
    "    print('# of Field: {}'.format(len(field_dict)))\n",
    "\n",
    "    return field_dict, field_index, X_modified"
   ]
  },
  {
   "cell_type": "code",
   "execution_count": null,
   "metadata": {},
   "outputs": [],
   "source": []
  }
 ],
 "metadata": {
  "kernelspec": {
   "display_name": "Python 3",
   "language": "python",
   "name": "python3"
  },
  "language_info": {
   "codemirror_mode": {
    "name": "ipython",
    "version": 3
   },
   "file_extension": ".py",
   "mimetype": "text/x-python",
   "name": "python",
   "nbconvert_exporter": "python",
   "pygments_lexer": "ipython3",
   "version": "3.8.5"
  }
 },
 "nbformat": 4,
 "nbformat_minor": 4
}
