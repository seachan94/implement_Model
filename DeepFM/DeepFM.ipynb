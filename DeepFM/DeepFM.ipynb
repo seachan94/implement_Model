{
 "cells": [
  {
   "cell_type": "code",
   "execution_count": 1,
   "metadata": {},
   "outputs": [
    {
     "name": "stdout",
     "output_type": "stream",
     "text": [
      "importing Jupyter notebook from FMlayer.ipynb\n"
     ]
    }
   ],
   "source": [
    "import import_ipynb # ipynb load 위한 모듈\n",
    "import tensorflow as tf\n",
    "from FMlayer import FM_layer\n",
    "tf.keras.backend.set_floatx('float32')"
   ]
  },
  {
   "cell_type": "code",
   "execution_count": 2,
   "metadata": {},
   "outputs": [],
   "source": [
    "\n",
    "\n",
    "\n",
    "\n",
    "class DeepFM(tf.keras.Model):\n",
    "\n",
    "    def __init__(self, num_feature, num_field, embedding_size, field_index):\n",
    "        \n",
    "        super(DeepFM, self).__init__()\n",
    "        \n",
    "        self.embedding_size = embedding_size    # k: 임베딩 벡터의 차원(크기)\n",
    "        self.num_feature = num_feature          # f: 원래 feature 개수\n",
    "        self.num_field = num_field              # m: grouped field 개수\n",
    "        self.field_index = field_index          # 인코딩된 X의 칼럼들이 본래 어디 소속이었는지\n",
    "\n",
    "        self.fm_layer = FM_layer(num_feature, num_field, embedding_size, field_index)\n",
    "\n",
    "        self.layers1 = tf.keras.layers.Dense(units=64, activation='relu')\n",
    "        self.dropout1 = tf.keras.layers.Dropout(rate=0.2)\n",
    "        self.layers2 = tf.keras.layers.Dense(units=16, activation='relu')\n",
    "        self.dropout2 = tf.keras.layers.Dropout(rate=0.2)\n",
    "        self.layers3 = tf.keras.layers.Dense(units=2, activation='relu')\n",
    "\n",
    "        self.final = tf.keras.layers.Dense(units=1, activation='sigmoid')\n",
    "\n",
    "    def __repr__(self):\n",
    "        return \"DeepFM Model: #Field: {}, #Feature: {}, ES: {}\".format(\n",
    "            self.num_field, self.num_feature, self.embedding_size)\n",
    "\n",
    "    def call(self, inputs):\n",
    "        # 1) FM Component: (num_batch, 2)\n",
    "        y_fm, new_inputs = self.fm_layer(inputs)\n",
    "\n",
    "        # retrieve Dense Vectors: (num_batch, num_feature*embedding_size)\n",
    "        new_inputs = tf.reshape(new_inputs, [-1, self.num_feature*self.embedding_size])\n",
    "\n",
    "        # 2) Deep Component\n",
    "        y_deep = self.layers1(new_inputs)\n",
    "        y_deep = self.dropout1(y_deep)\n",
    "        y_deep = self.layers2(y_deep)\n",
    "        y_deep = self.dropout2(y_deep)\n",
    "        y_deep = self.layers3(y_deep)\n",
    "\n",
    "        # Concatenation\n",
    "        y_pred = tf.concat([y_fm, y_deep], 1)\n",
    "        y_pred = self.final(y_pred)\n",
    "        y_pred = tf.reshape(y_pred, [-1, ])\n",
    "\n",
    "        return y_pred"
   ]
  },
  {
   "cell_type": "code",
   "execution_count": null,
   "metadata": {},
   "outputs": [],
   "source": []
  }
 ],
 "metadata": {
  "kernelspec": {
   "display_name": "Python 3",
   "language": "python",
   "name": "python3"
  },
  "language_info": {
   "codemirror_mode": {
    "name": "ipython",
    "version": 3
   },
   "file_extension": ".py",
   "mimetype": "text/x-python",
   "name": "python",
   "nbconvert_exporter": "python",
   "pygments_lexer": "ipython3",
   "version": "3.8.5"
  }
 },
 "nbformat": 4,
 "nbformat_minor": 4
}
